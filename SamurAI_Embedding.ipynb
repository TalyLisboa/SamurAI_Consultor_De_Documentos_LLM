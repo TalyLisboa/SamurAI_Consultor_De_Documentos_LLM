{
  "nbformat": 4,
  "nbformat_minor": 0,
  "metadata": {
    "colab": {
      "provenance": [],
      "authorship_tag": "ABX9TyMRDmw/H/hH8tv8sUyXLMAH",
      "include_colab_link": true
    },
    "kernelspec": {
      "name": "python3",
      "display_name": "Python 3"
    },
    "language_info": {
      "name": "python"
    }
  },
  "cells": [
    {
      "cell_type": "markdown",
      "metadata": {
        "id": "view-in-github",
        "colab_type": "text"
      },
      "source": [
        "<a href=\"https://colab.research.google.com/github/TalyLisboa/SamurAI_Consultor_De_Documentos_LLM/blob/main/SamurAI_Embedding.ipynb\" target=\"_parent\"><img src=\"https://colab.research.google.com/assets/colab-badge.svg\" alt=\"Open In Colab\"/></a>"
      ]
    },
    {
      "cell_type": "markdown",
      "source": [
        "## **SamurAI** **Embedding**"
      ],
      "metadata": {
        "id": "d89l58FW_hpQ"
      }
    },
    {
      "cell_type": "code",
      "execution_count": 9,
      "metadata": {
        "id": "xN0ceymo-nTB"
      },
      "outputs": [],
      "source": [
        "!pip install -U -q google-generativeai"
      ]
    },
    {
      "cell_type": "markdown",
      "source": [
        "Configurando a API key"
      ],
      "metadata": {
        "id": "pMgTB3WMAK5u"
      }
    },
    {
      "cell_type": "code",
      "source": [
        "# Importações e configurações iniciais\n",
        "import numpy as np\n",
        "import pandas as pd\n",
        "import google.generativeai as genai\n",
        "from google.colab import userdata\n",
        "userdata.get('secretName')\n",
        "\n",
        "genai.configure(api_key=GOOGLE_API_KEY)"
      ],
      "metadata": {
        "id": "EQ1Kaww2AP92"
      },
      "execution_count": 46,
      "outputs": []
    },
    {
      "cell_type": "markdown",
      "source": [
        "Configurando o modelo"
      ],
      "metadata": {
        "id": "E6t9EUadB5o2"
      }
    },
    {
      "cell_type": "code",
      "source": [
        "for m in genai.list_models():\n",
        "  if 'embedContent' in m.supported_generation_methods:\n",
        "    print(m.name)"
      ],
      "metadata": {
        "colab": {
          "base_uri": "https://localhost:8080/",
          "height": 53
        },
        "id": "h7XPctd2HaKF",
        "outputId": "b3bf22c6-1e68-43b1-ef45-cdcbdf33b6d7"
      },
      "execution_count": 47,
      "outputs": [
        {
          "output_type": "stream",
          "name": "stdout",
          "text": [
            "models/embedding-001\n",
            "models/text-embedding-004\n"
          ]
        }
      ]
    },
    {
      "cell_type": "code",
      "source": [
        "#Exemplos de embeddings\n",
        "title=\"A próxima geração de IA para desenvolvedores e Google Workspace\"\n",
        "sample_text=(\"Título: A Próxima geração de IA para desenvolvedores e Google Workspace\"\n",
        "  \"/n\"\n",
        "  \"Artigo completo:/n\"\n",
        "  \"/n\"\n",
        "  \"Gemini API & Google AI Studio: Uma maneira acessível de explorar e criar protótipos com aplicações de IA generativa\")\n",
        "\n",
        "embeddings = genai.embed_content(model=\"models/embedding-001\",\n",
        "                                 content=sample_text,\n",
        "                                 title=title,\n",
        "                                 task_type=\"RETRIEVAL_DOCUMENT\")\n",
        "\n",
        "print(embeddings)"
      ],
      "metadata": {
        "colab": {
          "base_uri": "https://localhost:8080/",
          "height": 55
        },
        "id": "DYL0QnYlByy7",
        "outputId": "2e3fd105-e91f-419c-fba4-e78967e8a21f"
      },
      "execution_count": 13,
      "outputs": [
        {
          "output_type": "stream",
          "name": "stdout",
          "text": [
            "{'embedding': [0.044247184, -0.035919838, -0.01783288, 0.02199581, 0.07384249, -0.014829901, -0.020759856, -0.023901429, 0.05653366, 0.06298002, 0.011477733, 0.017186148, -0.055195514, -0.023031924, 0.0013951192, -0.020091616, 0.014861757, -0.01890373, -0.0342331, -0.0003071119, 0.008288839, 0.008793865, -0.025446426, -0.06790739, -0.025555309, 0.013054317, 0.021168273, -0.034458715, -0.034841415, 0.022302315, -0.05242322, 0.058601994, -0.037543494, 0.009653752, -0.04141451, -0.04183157, -0.028972084, -0.05261127, -0.006308077, 0.004092348, 0.004864218, -0.08390539, -0.012846926, 0.02722705, -0.0027547828, -0.020951172, 0.03733261, 0.038174935, 0.01822569, -0.060933683, 0.028636478, 0.024849711, 0.06862672, -0.03965786, -0.0019701929, -0.0102676395, 0.0189276, -0.037216976, 0.02325963, -0.0022997234, 0.0065623815, 0.023182767, -0.015780397, 0.04904094, 0.019326739, -0.05931093, -0.03971334, 0.001483869, 0.016184218, 0.045013335, 0.0057031508, 0.009475842, 0.057729825, -0.06125552, -0.038581967, -0.10591271, -0.040436856, 0.04088217, -6.183599e-05, 0.020887325, 0.016351568, -0.07640368, -0.05307679, -0.035673283, -0.013388616, 0.03278905, -0.062200133, -0.024804724, 0.03750149, 0.006277075, 0.009081615, -0.047825404, 0.049797203, -0.04171813, -0.00071382616, 0.079868175, -0.06439827, -0.016923673, -0.0020552878, -0.0776487, -0.021296654, 0.0023753718, -0.06275849, 0.0071142577, 0.026680904, 0.03841581, -0.014451432, 0.01761575, -0.042539988, 0.10420183, -0.027942132, -0.014755584, 0.03291479, -0.05531931, 0.042625505, -0.016266065, 0.01660345, 0.044498306, 0.0030357451, 0.050438404, 0.045751266, 0.032184713, 0.038526587, 0.00669292, -0.045900907, 0.023961432, -0.044010416, 0.019042308, 0.054626353, 0.036183055, 0.016001573, -0.04138997, -0.025103567, 0.043714114, 0.04397864, 0.048526313, 0.022626216, -0.016066503, 0.058594853, 0.049954984, -0.005715892, 0.04620534, -0.004541191, -0.015554518, -0.012680325, 0.08621588, -0.07896126, -0.011542555, 0.031793512, -0.0056610494, -0.037208658, 0.010409816, -0.09237547, 0.059865236, 0.039602153, 0.029296102, -0.04100694, 0.074058585, 0.021633228, 0.012235546, 0.03998691, -0.010999756, -0.004573582, 0.0085505815, -0.014393402, -0.027525308, -0.0151150515, 0.013257349, 0.013676867, 0.033543054, 0.001969744, 0.0058736634, -0.042475518, -0.056728255, -0.009040884, -0.037351083, 0.009847464, -0.0021254048, -0.040885177, 0.027224887, -0.030962892, -0.068606265, 0.04139279, 0.02877787, 0.00985822, -0.028794311, 0.04611804, -0.017313376, -0.08397642, 0.042106975, -0.0065423166, -0.026687615, -0.014809366, -0.00028423982, -0.03431087, 0.04178144, 0.02435105, 0.029065084, 0.01171478, -0.020079948, 0.005717085, 0.070519894, 0.040900525, 0.009438987, -0.0035608185, 0.043689802, 0.07760165, -0.0115515655, -0.037998434, 0.031633426, -0.034336094, -0.0011397661, 0.022950867, 0.035184648, 0.030958792, -0.025249818, 0.00014793816, -0.008234195, -0.03263468, -0.04344823, -0.021202717, -0.008583282, -0.03269836, -0.0058286623, -0.037139736, 0.073540464, -0.05718924, 0.06715257, 0.04508906, -0.07325144, 0.018936727, 0.06382117, 0.062116235, 0.014569901, 0.043723017, 0.012354904, 0.011386928, 0.023572294, 0.042065892, 0.03741172, -0.028567279, 0.052499846, 0.037116688, 0.03704426, -0.04719104, -0.0011108647, 0.0031265987, 0.05774659, -0.005484082, 0.041914754, -0.011982138, -0.04122973, -0.049548037, 0.0562235, -0.027595902, 0.0071817013, -0.07047991, -0.058486003, 0.06614092, -0.0030503299, 0.068566374, -0.044371873, 0.011679333, 0.0043345955, 0.0053798165, -0.06256298, 0.019652393, 0.03190833, -0.027888544, 0.041624054, -0.027612494, -0.06771266, 0.04896809, 0.05670361, -0.0010644846, 0.020864397, 0.005820693, 0.029107217, 0.05781869, -0.0708494, 0.004584795, 0.048551984, 0.008166333, -0.07340208, -0.05213336, 0.00066609244, -0.014002514, -0.05022236, -0.0076140263, -0.06300599, -0.064517185, 0.03826407, -0.0026502179, 0.02854166, -0.056972444, 0.004684246, -0.04140266, 0.041923784, 0.04943308, -0.022302143, -0.022317102, -0.0726862, -0.02046485, -0.07353638, -0.015983434, -0.036737937, -0.015254606, -0.06096538, 0.04870585, 0.042639587, 0.013088406, -0.027212799, -0.012698846, 0.019179996, 0.09110894, 0.04438723, -0.029630655, 0.008132608, -0.0071839346, 0.059161764, -0.000596322, 0.0065372293, -0.010219082, -0.00074277876, -0.025682768, 0.04993919, -0.030419433, -0.0069254125, -0.003994385, 0.023640526, -0.018024467, -0.005596292, -0.017016115, 0.03884335, 0.062053394, 0.008383835, -0.05386438, 0.0072237933, -0.017263928, -0.03416558, -0.0030413182, -0.004782989, 0.00023790581, -0.045997202, 0.02860809, 0.004905379, -0.088118866, -0.010820804, 0.05823751, 0.0073188157, -0.0039613023, 0.06124564, -0.021208605, -0.03938075, -0.010461807, -0.021294447, 0.03413076, 0.02380564, 0.067969516, -0.02856936, -0.0025343802, 0.042008594, -0.013918525, 0.018947672, 0.0126381675, 0.05696785, 0.014702115, -0.011868487, -0.0030819606, 0.021179186, 0.0155117, -0.03191473, 0.024851019, -0.014388714, 0.013325579, -0.0059618494, -0.03448606, -0.05722456, -0.008771353, 0.034099452, -0.007223542, -0.05741654, 0.0445975, 0.05605322, -0.01730228, 0.00045520414, 0.02750021, 0.06765081, -0.0062682475, 0.04361673, 0.021220477, 0.0035322332, 0.09500186, 0.023170147, 0.013344998, 0.019003581, -0.012988774, -0.032852743, 0.028252348, -0.020673787, -0.0056421915, -0.049166128, -0.016705433, -0.023332302, -0.013767328, 0.0023300597, -0.04075983, -0.035308626, -0.052831974, -0.050399885, 0.014362342, -3.286866e-05, 0.05327415, -0.06079238, -0.056876868, -0.0143933445, 0.020208739, -0.01175232, -0.013311465, -0.025479466, -0.01432944, 0.009805468, 0.029049955, -0.040821373, -0.051386457, -0.0056656515, 0.008043379, -0.036080252, 0.013064058, 0.034457512, 0.010097621, 0.011823937, 0.008009883, 0.003948238, -0.022868415, -0.047894325, -0.00079256116, 0.012265266, -0.010400465, 0.025858834, 0.029918233, -0.014921782, -0.0052158968, -0.0027105212, -0.05509974, -0.06003116, 0.004251556, 0.0076429187, 0.042619955, -0.052909978, 0.017802313, -0.053650685, -0.044680465, -0.040928993, -0.029280946, 0.013995516, 0.017229903, 0.020427149, -0.009119153, 0.003507225, 0.0004738655, -0.02968345, -0.011731019, -0.011970733, 0.05763055, -0.0131671475, -0.0027073056, -0.010270592, 0.007415837, 0.027442401, 0.021982709, -0.08916437, 0.027416553, -0.019795228, 0.0068578417, 0.009597909, -0.051275127, 0.03570681, -0.030714, 0.017076647, -0.024070876, 0.024359712, 0.017533671, -0.011814192, -0.013827339, -0.037646484, 0.01684892, -0.010998183, 0.008980792, 0.012783778, 0.02786412, 0.035572346, -0.044079576, -0.051745478, -0.01077405, -0.020946693, -0.044599295, 0.012290777, 0.04277693, 0.023256695, -0.0077593704, -0.020639725, -0.021250738, 0.025165578, 0.03915228, -0.03352664, 0.017505018, -0.021805968, -0.0018100388, -0.039567944, -0.012188431, -0.014050095, 0.024201382, -0.033991825, 0.07471989, -0.03240117, -0.013757159, 0.040386975, 0.019351464, -0.008679781, 0.069929555, 0.030255979, -0.06664614, 0.0051055844, 0.015934767, -0.045692183, 0.027699985, -0.013561768, 0.007508149, 0.024519568, -0.024890503, 0.0632635, -0.0048886347, -0.055137813, 0.023114292, 0.014807156, 0.046270102, -0.00072019227, -0.026885208, 0.012265186, 0.004521083, -0.06756907, 0.03168929, 0.017557394, -0.03923559, -0.013610318, -0.006935727, -0.05821195, 0.021450013, -0.010204245, -0.012008688, 0.008156224, 0.0036965485, 0.030316882, 0.04694145, -0.045326736, -0.008699836, -0.013044482, 0.041976575, 0.023310483, 0.0069169034, -0.003277256, -0.015291778, -0.0039305454, 0.06588948, 5.144416e-05, -0.015497712, -0.017705863, 0.032214377, -0.022417506, 0.002069028, 0.014164798, 0.016362138, 0.0058929194, 0.0462152, -0.015383967, -0.03865195, -0.01922748, -0.045179617, 0.043867353, 0.03482335, -0.0063169217, -0.0271803, 0.046068754, -0.04178028, -0.0027286625, 0.018838089, 0.039306317, 0.05821318, 0.025567463, -0.062002145, 0.06545824, 0.010629677, 0.018210677, 0.020743616, -0.0135558015, 0.02591871, -0.009493301, 0.03646388, 0.059373043, -0.030668171, -0.038280156, 0.05058019, -0.0192457, -0.016679827, 0.0049434816, -0.009543461, 0.0055026016, 0.0064455396, -0.0073114284, 0.009077411, -0.08984772, 0.021906601, -0.031790517, -0.050978653, -0.022036526, 0.025412094, 0.01830543, -0.023939166, -0.0044541415, 0.051758457, 0.033704642, 0.023003178, 0.03799851, 0.026389336, 0.02172821, -0.067125075, 0.017689297, 0.054117613, 0.044711046, 0.05565904, 0.058272954, 0.009690479, -0.038328007, -0.061505236, -0.0030658753, 0.019225689, 0.05704541, -0.0026329039, -0.035351187, -0.04221346, -0.006426429, -0.01695656, -0.031850975, -0.039838772, 0.0067691407, -0.011829253, -0.07584623, -0.049269363, 0.0008063452, -0.0022170423, 0.009955908, 0.010710411, -0.005315703, 0.037384905, 0.009697589, -0.061254732, -0.06580756, 0.015215407, -0.025812354, -0.06920236, 0.013246307, 0.0069517954, 0.0026276403, -0.05325307, -0.035360437, -0.050660778, -0.08367203, -0.04047919, 0.036740933, -0.04906272, 0.052134067, 0.033284392, -0.011595127, 0.018561775, 0.052365344, 0.004157298, 0.0013097014, -0.005664228, -0.026941935, 0.0038863164, -0.040364787, 0.0022624028, -0.0018397714, -0.016853174, 0.015963882, 0.03813485, 0.010640145, -0.016501667, -0.018585786, -0.020736435, -0.03480835, -0.0035179916, -0.016141756, -0.014029375, -0.04638991, -0.0389062, -0.061110035, 0.058968246, 0.04526035, -0.022901112, -0.010569299, -0.012914048, -0.027754629, 0.0047150613, -0.011321241, -0.044966225, -0.004192846, -0.020164507, 0.048283134, 0.06261909, -0.039258964, -0.09566978, 0.025426975, -0.044846587, 0.012050392, -0.028488686, 0.0058208066, -0.018638432, 0.03728604, 0.011254757, -0.0058656614, 0.0064643375, -0.038446527, -0.087845206, 0.014586688, -0.029750858, 0.016910044, -0.032044217, 0.0023797813, 0.066910654, -0.0039637294, -0.058522023, 0.0073461193, -0.011605827, 0.016759519, -0.036335927, 0.06454024, -0.04224101, -0.077399336, -0.035871018, -0.03026085, -0.008585739, 0.050491165, 0.018511122, -0.03172309, 0.0021148564, -0.009004312, -0.0082764635, -0.06632408, -0.03125596, -0.021487515, -0.008717282, 0.03227663, -0.009352082, -0.012186155, 0.009864858, -0.028309332, 0.008398496, 0.011185008, -0.044446837, -0.035684355, 0.013655432, -0.03431137, 0.009488134, 0.09321659, -0.055229962, 0.014836555]}\n"
          ]
        }
      ]
    },
    {
      "cell_type": "markdown",
      "source": [],
      "metadata": {
        "id": "v1d7EB-2_0XP"
      }
    },
    {
      "cell_type": "markdown",
      "source": [
        "Listando os documentos"
      ],
      "metadata": {
        "id": "dRNDr9aIILzY"
      }
    },
    {
      "cell_type": "code",
      "source": [
        "#Listagem de documentos que serão buscados\n",
        "DOCUMENT1 = {\n",
        "    \"Título\":\"Operação do sistema de controle climático\",\n",
        "    \"Conteúdo\": \"O Googlecar tem um sistema de controle climático que perimite ajustar a temperatura e o fluxo de ar no carro.\"\n",
        "}\n",
        "\n",
        "DOCUMENT2 = {\n",
        "    \"Título\": \"Touchscreen\",\n",
        "    \"Conteúdo\": \"O seu Googlecar tem uma grande tela sensível ao toque que fornece acesso a uma variedade de recursos, incluindo navegação.\"\n",
        "}\n",
        "\n",
        "DOCUMENT3 = {\n",
        "    \"Título\": \"Mudança de marchas\",\n",
        "    \"Conteúdo\": \"Seu Googlecar tem uma transmição automática. Para trocar as marchas, basta mover a alavanca de câmbio para a posição desejada.\"\n",
        "}\n",
        "\n",
        "documents = [DOCUMENT1, DOCUMENT2, DOCUMENT3]"
      ],
      "metadata": {
        "id": "sOBSN2CRIO3k"
      },
      "execution_count": 14,
      "outputs": []
    },
    {
      "cell_type": "code",
      "source": [
        "df = pd.DataFrame(documents)\n",
        "df.columns = [\"Titulo\", \"Conteudo\"]\n",
        "df"
      ],
      "metadata": {
        "id": "P_MEMqC8KWrn",
        "outputId": "bbcc5f22-9c85-4cc0-e457-5fbb672505da",
        "colab": {
          "base_uri": "https://localhost:8080/",
          "height": 195
        }
      },
      "execution_count": 15,
      "outputs": [
        {
          "output_type": "execute_result",
          "data": {
            "text/plain": [
              "                                      Título  \\\n",
              "0  Operação do sistema de controle climático   \n",
              "1                                Touchscreen   \n",
              "2                         Mudança de marchas   \n",
              "\n",
              "                                            Conteúdo  \n",
              "0  O Googlecar tem um sistema de controle climáti...  \n",
              "1  O seu Googlecar tem uma grande tela sensível a...  \n",
              "2  Seu Googlecar tem uma transmição automática. P...  "
            ],
            "text/html": [
              "\n",
              "  <div id=\"df-bfd73ef6-a762-42a1-9deb-281017c73f77\" class=\"colab-df-container\">\n",
              "    <div>\n",
              "<style scoped>\n",
              "    .dataframe tbody tr th:only-of-type {\n",
              "        vertical-align: middle;\n",
              "    }\n",
              "\n",
              "    .dataframe tbody tr th {\n",
              "        vertical-align: top;\n",
              "    }\n",
              "\n",
              "    .dataframe thead th {\n",
              "        text-align: right;\n",
              "    }\n",
              "</style>\n",
              "<table border=\"1\" class=\"dataframe\">\n",
              "  <thead>\n",
              "    <tr style=\"text-align: right;\">\n",
              "      <th></th>\n",
              "      <th>Título</th>\n",
              "      <th>Conteúdo</th>\n",
              "    </tr>\n",
              "  </thead>\n",
              "  <tbody>\n",
              "    <tr>\n",
              "      <th>0</th>\n",
              "      <td>Operação do sistema de controle climático</td>\n",
              "      <td>O Googlecar tem um sistema de controle climáti...</td>\n",
              "    </tr>\n",
              "    <tr>\n",
              "      <th>1</th>\n",
              "      <td>Touchscreen</td>\n",
              "      <td>O seu Googlecar tem uma grande tela sensível a...</td>\n",
              "    </tr>\n",
              "    <tr>\n",
              "      <th>2</th>\n",
              "      <td>Mudança de marchas</td>\n",
              "      <td>Seu Googlecar tem uma transmição automática. P...</td>\n",
              "    </tr>\n",
              "  </tbody>\n",
              "</table>\n",
              "</div>\n",
              "    <div class=\"colab-df-buttons\">\n",
              "\n",
              "  <div class=\"colab-df-container\">\n",
              "    <button class=\"colab-df-convert\" onclick=\"convertToInteractive('df-bfd73ef6-a762-42a1-9deb-281017c73f77')\"\n",
              "            title=\"Convert this dataframe to an interactive table.\"\n",
              "            style=\"display:none;\">\n",
              "\n",
              "  <svg xmlns=\"http://www.w3.org/2000/svg\" height=\"24px\" viewBox=\"0 -960 960 960\">\n",
              "    <path d=\"M120-120v-720h720v720H120Zm60-500h600v-160H180v160Zm220 220h160v-160H400v160Zm0 220h160v-160H400v160ZM180-400h160v-160H180v160Zm440 0h160v-160H620v160ZM180-180h160v-160H180v160Zm440 0h160v-160H620v160Z\"/>\n",
              "  </svg>\n",
              "    </button>\n",
              "\n",
              "  <style>\n",
              "    .colab-df-container {\n",
              "      display:flex;\n",
              "      gap: 12px;\n",
              "    }\n",
              "\n",
              "    .colab-df-convert {\n",
              "      background-color: #E8F0FE;\n",
              "      border: none;\n",
              "      border-radius: 50%;\n",
              "      cursor: pointer;\n",
              "      display: none;\n",
              "      fill: #1967D2;\n",
              "      height: 32px;\n",
              "      padding: 0 0 0 0;\n",
              "      width: 32px;\n",
              "    }\n",
              "\n",
              "    .colab-df-convert:hover {\n",
              "      background-color: #E2EBFA;\n",
              "      box-shadow: 0px 1px 2px rgba(60, 64, 67, 0.3), 0px 1px 3px 1px rgba(60, 64, 67, 0.15);\n",
              "      fill: #174EA6;\n",
              "    }\n",
              "\n",
              "    .colab-df-buttons div {\n",
              "      margin-bottom: 4px;\n",
              "    }\n",
              "\n",
              "    [theme=dark] .colab-df-convert {\n",
              "      background-color: #3B4455;\n",
              "      fill: #D2E3FC;\n",
              "    }\n",
              "\n",
              "    [theme=dark] .colab-df-convert:hover {\n",
              "      background-color: #434B5C;\n",
              "      box-shadow: 0px 1px 3px 1px rgba(0, 0, 0, 0.15);\n",
              "      filter: drop-shadow(0px 1px 2px rgba(0, 0, 0, 0.3));\n",
              "      fill: #FFFFFF;\n",
              "    }\n",
              "  </style>\n",
              "\n",
              "    <script>\n",
              "      const buttonEl =\n",
              "        document.querySelector('#df-bfd73ef6-a762-42a1-9deb-281017c73f77 button.colab-df-convert');\n",
              "      buttonEl.style.display =\n",
              "        google.colab.kernel.accessAllowed ? 'block' : 'none';\n",
              "\n",
              "      async function convertToInteractive(key) {\n",
              "        const element = document.querySelector('#df-bfd73ef6-a762-42a1-9deb-281017c73f77');\n",
              "        const dataTable =\n",
              "          await google.colab.kernel.invokeFunction('convertToInteractive',\n",
              "                                                    [key], {});\n",
              "        if (!dataTable) return;\n",
              "\n",
              "        const docLinkHtml = 'Like what you see? Visit the ' +\n",
              "          '<a target=\"_blank\" href=https://colab.research.google.com/notebooks/data_table.ipynb>data table notebook</a>'\n",
              "          + ' to learn more about interactive tables.';\n",
              "        element.innerHTML = '';\n",
              "        dataTable['output_type'] = 'display_data';\n",
              "        await google.colab.output.renderOutput(dataTable, element);\n",
              "        const docLink = document.createElement('div');\n",
              "        docLink.innerHTML = docLinkHtml;\n",
              "        element.appendChild(docLink);\n",
              "      }\n",
              "    </script>\n",
              "  </div>\n",
              "\n",
              "\n",
              "<div id=\"df-dda38c6d-595f-48ee-96d8-c124581c92a0\">\n",
              "  <button class=\"colab-df-quickchart\" onclick=\"quickchart('df-dda38c6d-595f-48ee-96d8-c124581c92a0')\"\n",
              "            title=\"Suggest charts\"\n",
              "            style=\"display:none;\">\n",
              "\n",
              "<svg xmlns=\"http://www.w3.org/2000/svg\" height=\"24px\"viewBox=\"0 0 24 24\"\n",
              "     width=\"24px\">\n",
              "    <g>\n",
              "        <path d=\"M19 3H5c-1.1 0-2 .9-2 2v14c0 1.1.9 2 2 2h14c1.1 0 2-.9 2-2V5c0-1.1-.9-2-2-2zM9 17H7v-7h2v7zm4 0h-2V7h2v10zm4 0h-2v-4h2v4z\"/>\n",
              "    </g>\n",
              "</svg>\n",
              "  </button>\n",
              "\n",
              "<style>\n",
              "  .colab-df-quickchart {\n",
              "      --bg-color: #E8F0FE;\n",
              "      --fill-color: #1967D2;\n",
              "      --hover-bg-color: #E2EBFA;\n",
              "      --hover-fill-color: #174EA6;\n",
              "      --disabled-fill-color: #AAA;\n",
              "      --disabled-bg-color: #DDD;\n",
              "  }\n",
              "\n",
              "  [theme=dark] .colab-df-quickchart {\n",
              "      --bg-color: #3B4455;\n",
              "      --fill-color: #D2E3FC;\n",
              "      --hover-bg-color: #434B5C;\n",
              "      --hover-fill-color: #FFFFFF;\n",
              "      --disabled-bg-color: #3B4455;\n",
              "      --disabled-fill-color: #666;\n",
              "  }\n",
              "\n",
              "  .colab-df-quickchart {\n",
              "    background-color: var(--bg-color);\n",
              "    border: none;\n",
              "    border-radius: 50%;\n",
              "    cursor: pointer;\n",
              "    display: none;\n",
              "    fill: var(--fill-color);\n",
              "    height: 32px;\n",
              "    padding: 0;\n",
              "    width: 32px;\n",
              "  }\n",
              "\n",
              "  .colab-df-quickchart:hover {\n",
              "    background-color: var(--hover-bg-color);\n",
              "    box-shadow: 0 1px 2px rgba(60, 64, 67, 0.3), 0 1px 3px 1px rgba(60, 64, 67, 0.15);\n",
              "    fill: var(--button-hover-fill-color);\n",
              "  }\n",
              "\n",
              "  .colab-df-quickchart-complete:disabled,\n",
              "  .colab-df-quickchart-complete:disabled:hover {\n",
              "    background-color: var(--disabled-bg-color);\n",
              "    fill: var(--disabled-fill-color);\n",
              "    box-shadow: none;\n",
              "  }\n",
              "\n",
              "  .colab-df-spinner {\n",
              "    border: 2px solid var(--fill-color);\n",
              "    border-color: transparent;\n",
              "    border-bottom-color: var(--fill-color);\n",
              "    animation:\n",
              "      spin 1s steps(1) infinite;\n",
              "  }\n",
              "\n",
              "  @keyframes spin {\n",
              "    0% {\n",
              "      border-color: transparent;\n",
              "      border-bottom-color: var(--fill-color);\n",
              "      border-left-color: var(--fill-color);\n",
              "    }\n",
              "    20% {\n",
              "      border-color: transparent;\n",
              "      border-left-color: var(--fill-color);\n",
              "      border-top-color: var(--fill-color);\n",
              "    }\n",
              "    30% {\n",
              "      border-color: transparent;\n",
              "      border-left-color: var(--fill-color);\n",
              "      border-top-color: var(--fill-color);\n",
              "      border-right-color: var(--fill-color);\n",
              "    }\n",
              "    40% {\n",
              "      border-color: transparent;\n",
              "      border-right-color: var(--fill-color);\n",
              "      border-top-color: var(--fill-color);\n",
              "    }\n",
              "    60% {\n",
              "      border-color: transparent;\n",
              "      border-right-color: var(--fill-color);\n",
              "    }\n",
              "    80% {\n",
              "      border-color: transparent;\n",
              "      border-right-color: var(--fill-color);\n",
              "      border-bottom-color: var(--fill-color);\n",
              "    }\n",
              "    90% {\n",
              "      border-color: transparent;\n",
              "      border-bottom-color: var(--fill-color);\n",
              "    }\n",
              "  }\n",
              "</style>\n",
              "\n",
              "  <script>\n",
              "    async function quickchart(key) {\n",
              "      const quickchartButtonEl =\n",
              "        document.querySelector('#' + key + ' button');\n",
              "      quickchartButtonEl.disabled = true;  // To prevent multiple clicks.\n",
              "      quickchartButtonEl.classList.add('colab-df-spinner');\n",
              "      try {\n",
              "        const charts = await google.colab.kernel.invokeFunction(\n",
              "            'suggestCharts', [key], {});\n",
              "      } catch (error) {\n",
              "        console.error('Error during call to suggestCharts:', error);\n",
              "      }\n",
              "      quickchartButtonEl.classList.remove('colab-df-spinner');\n",
              "      quickchartButtonEl.classList.add('colab-df-quickchart-complete');\n",
              "    }\n",
              "    (() => {\n",
              "      let quickchartButtonEl =\n",
              "        document.querySelector('#df-dda38c6d-595f-48ee-96d8-c124581c92a0 button');\n",
              "      quickchartButtonEl.style.display =\n",
              "        google.colab.kernel.accessAllowed ? 'block' : 'none';\n",
              "    })();\n",
              "  </script>\n",
              "</div>\n",
              "\n",
              "  <div id=\"id_041a15be-0fc9-4058-99c2-2cf4dd358499\">\n",
              "    <style>\n",
              "      .colab-df-generate {\n",
              "        background-color: #E8F0FE;\n",
              "        border: none;\n",
              "        border-radius: 50%;\n",
              "        cursor: pointer;\n",
              "        display: none;\n",
              "        fill: #1967D2;\n",
              "        height: 32px;\n",
              "        padding: 0 0 0 0;\n",
              "        width: 32px;\n",
              "      }\n",
              "\n",
              "      .colab-df-generate:hover {\n",
              "        background-color: #E2EBFA;\n",
              "        box-shadow: 0px 1px 2px rgba(60, 64, 67, 0.3), 0px 1px 3px 1px rgba(60, 64, 67, 0.15);\n",
              "        fill: #174EA6;\n",
              "      }\n",
              "\n",
              "      [theme=dark] .colab-df-generate {\n",
              "        background-color: #3B4455;\n",
              "        fill: #D2E3FC;\n",
              "      }\n",
              "\n",
              "      [theme=dark] .colab-df-generate:hover {\n",
              "        background-color: #434B5C;\n",
              "        box-shadow: 0px 1px 3px 1px rgba(0, 0, 0, 0.15);\n",
              "        filter: drop-shadow(0px 1px 2px rgba(0, 0, 0, 0.3));\n",
              "        fill: #FFFFFF;\n",
              "      }\n",
              "    </style>\n",
              "    <button class=\"colab-df-generate\" onclick=\"generateWithVariable('df')\"\n",
              "            title=\"Generate code using this dataframe.\"\n",
              "            style=\"display:none;\">\n",
              "\n",
              "  <svg xmlns=\"http://www.w3.org/2000/svg\" height=\"24px\"viewBox=\"0 0 24 24\"\n",
              "       width=\"24px\">\n",
              "    <path d=\"M7,19H8.4L18.45,9,17,7.55,7,17.6ZM5,21V16.75L18.45,3.32a2,2,0,0,1,2.83,0l1.4,1.43a1.91,1.91,0,0,1,.58,1.4,1.91,1.91,0,0,1-.58,1.4L9.25,21ZM18.45,9,17,7.55Zm-12,3A5.31,5.31,0,0,0,4.9,8.1,5.31,5.31,0,0,0,1,6.5,5.31,5.31,0,0,0,4.9,4.9,5.31,5.31,0,0,0,6.5,1,5.31,5.31,0,0,0,8.1,4.9,5.31,5.31,0,0,0,12,6.5,5.46,5.46,0,0,0,6.5,12Z\"/>\n",
              "  </svg>\n",
              "    </button>\n",
              "    <script>\n",
              "      (() => {\n",
              "      const buttonEl =\n",
              "        document.querySelector('#id_041a15be-0fc9-4058-99c2-2cf4dd358499 button.colab-df-generate');\n",
              "      buttonEl.style.display =\n",
              "        google.colab.kernel.accessAllowed ? 'block' : 'none';\n",
              "\n",
              "      buttonEl.onclick = () => {\n",
              "        google.colab.notebook.generateWithVariable('df');\n",
              "      }\n",
              "      })();\n",
              "    </script>\n",
              "  </div>\n",
              "\n",
              "    </div>\n",
              "  </div>\n"
            ],
            "application/vnd.google.colaboratory.intrinsic+json": {
              "type": "dataframe",
              "variable_name": "df",
              "summary": "{\n  \"name\": \"df\",\n  \"rows\": 3,\n  \"fields\": [\n    {\n      \"column\": \"T\\u00edtulo\",\n      \"properties\": {\n        \"dtype\": \"string\",\n        \"num_unique_values\": 3,\n        \"samples\": [\n          \"Opera\\u00e7\\u00e3o do sistema de controle clim\\u00e1tico\",\n          \"Touchscreen\",\n          \"Mudan\\u00e7a de marchas\"\n        ],\n        \"semantic_type\": \"\",\n        \"description\": \"\"\n      }\n    },\n    {\n      \"column\": \"Conte\\u00fado\",\n      \"properties\": {\n        \"dtype\": \"string\",\n        \"num_unique_values\": 3,\n        \"samples\": [\n          \"O Googlecar tem um sistema de controle clim\\u00e1tico que perimite ajustar a temperatura e o fluxo de ar no carro.\",\n          \"O seu Googlecar tem uma grande tela sens\\u00edvel ao toque que fornece acesso a uma variedade de recursos, incluindo navega\\u00e7\\u00e3o.\",\n          \"Seu Googlecar tem uma transmi\\u00e7\\u00e3o autom\\u00e1tica. Para trocar as marchas, basta mover a alavanca de c\\u00e2mbio para a posi\\u00e7\\u00e3o desejada.\"\n        ],\n        \"semantic_type\": \"\",\n        \"description\": \"\"\n      }\n    }\n  ]\n}"
            }
          },
          "metadata": {},
          "execution_count": 15
        }
      ]
    },
    {
      "cell_type": "markdown",
      "source": [
        "Selecionando o modelo"
      ],
      "metadata": {
        "id": "WuwWaqGtLUdf"
      }
    },
    {
      "cell_type": "code",
      "source": [
        "#Seleção de modelo\n",
        "model = \"models/embedding-001\""
      ],
      "metadata": {
        "id": "LxKanyCjLW0h"
      },
      "execution_count": 16,
      "outputs": []
    },
    {
      "cell_type": "markdown",
      "source": [
        "Funções em Python"
      ],
      "metadata": {
        "id": "p5rl4KnhLj2S"
      }
    },
    {
      "cell_type": "code",
      "source": [
        "#Dando um nome\n",
        "def samurAI_fn(title, text):\n",
        "  return genai.embed_content(model=model,\n",
        "                                 content=text,\n",
        "                                 title=title,\n",
        "                                 task_type=\"RETRIEVAL_DOCUMENT\")[\"embedding\"]"
      ],
      "metadata": {
        "id": "eXEIq2pvLoB5"
      },
      "execution_count": 18,
      "outputs": []
    },
    {
      "cell_type": "markdown",
      "source": [
        "Acessando o DataFrame"
      ],
      "metadata": {
        "id": "7VZJOHAUMt8j"
      }
    },
    {
      "cell_type": "code",
      "source": [
        "#Aplicando nas estruturas do DataFrame\n",
        "df[\"Embeddings\"] = df.apply(lambda row: samurAI_fn(row[\"Título\"], row[\"Conteúdo\"]), axis=1)\n",
        "df"
      ],
      "metadata": {
        "id": "itPujrssM1Kl",
        "outputId": "3f2215b8-0b32-40d7-e832-de7de43dfe5b",
        "colab": {
          "base_uri": "https://localhost:8080/",
          "height": 213
        }
      },
      "execution_count": 21,
      "outputs": [
        {
          "output_type": "execute_result",
          "data": {
            "text/plain": [
              "                                      Título  \\\n",
              "0  Operação do sistema de controle climático   \n",
              "1                                Touchscreen   \n",
              "2                         Mudança de marchas   \n",
              "\n",
              "                                            Conteúdo  \\\n",
              "0  O Googlecar tem um sistema de controle climáti...   \n",
              "1  O seu Googlecar tem uma grande tela sensível a...   \n",
              "2  Seu Googlecar tem uma transmição automática. P...   \n",
              "\n",
              "                                          Embeddings  \n",
              "0  [-0.009723708, -0.018445168, -0.060782507, 0.0...  \n",
              "1  [0.011367341, -0.048442047, -0.023845239, -0.0...  \n",
              "2  [0.009928003, -0.037345175, -0.0074674822, 0.0...  "
            ],
            "text/html": [
              "\n",
              "  <div id=\"df-01654daf-62a1-44bc-ac86-12257eb53cbf\" class=\"colab-df-container\">\n",
              "    <div>\n",
              "<style scoped>\n",
              "    .dataframe tbody tr th:only-of-type {\n",
              "        vertical-align: middle;\n",
              "    }\n",
              "\n",
              "    .dataframe tbody tr th {\n",
              "        vertical-align: top;\n",
              "    }\n",
              "\n",
              "    .dataframe thead th {\n",
              "        text-align: right;\n",
              "    }\n",
              "</style>\n",
              "<table border=\"1\" class=\"dataframe\">\n",
              "  <thead>\n",
              "    <tr style=\"text-align: right;\">\n",
              "      <th></th>\n",
              "      <th>Título</th>\n",
              "      <th>Conteúdo</th>\n",
              "      <th>Embeddings</th>\n",
              "    </tr>\n",
              "  </thead>\n",
              "  <tbody>\n",
              "    <tr>\n",
              "      <th>0</th>\n",
              "      <td>Operação do sistema de controle climático</td>\n",
              "      <td>O Googlecar tem um sistema de controle climáti...</td>\n",
              "      <td>[-0.009723708, -0.018445168, -0.060782507, 0.0...</td>\n",
              "    </tr>\n",
              "    <tr>\n",
              "      <th>1</th>\n",
              "      <td>Touchscreen</td>\n",
              "      <td>O seu Googlecar tem uma grande tela sensível a...</td>\n",
              "      <td>[0.011367341, -0.048442047, -0.023845239, -0.0...</td>\n",
              "    </tr>\n",
              "    <tr>\n",
              "      <th>2</th>\n",
              "      <td>Mudança de marchas</td>\n",
              "      <td>Seu Googlecar tem uma transmição automática. P...</td>\n",
              "      <td>[0.009928003, -0.037345175, -0.0074674822, 0.0...</td>\n",
              "    </tr>\n",
              "  </tbody>\n",
              "</table>\n",
              "</div>\n",
              "    <div class=\"colab-df-buttons\">\n",
              "\n",
              "  <div class=\"colab-df-container\">\n",
              "    <button class=\"colab-df-convert\" onclick=\"convertToInteractive('df-01654daf-62a1-44bc-ac86-12257eb53cbf')\"\n",
              "            title=\"Convert this dataframe to an interactive table.\"\n",
              "            style=\"display:none;\">\n",
              "\n",
              "  <svg xmlns=\"http://www.w3.org/2000/svg\" height=\"24px\" viewBox=\"0 -960 960 960\">\n",
              "    <path d=\"M120-120v-720h720v720H120Zm60-500h600v-160H180v160Zm220 220h160v-160H400v160Zm0 220h160v-160H400v160ZM180-400h160v-160H180v160Zm440 0h160v-160H620v160ZM180-180h160v-160H180v160Zm440 0h160v-160H620v160Z\"/>\n",
              "  </svg>\n",
              "    </button>\n",
              "\n",
              "  <style>\n",
              "    .colab-df-container {\n",
              "      display:flex;\n",
              "      gap: 12px;\n",
              "    }\n",
              "\n",
              "    .colab-df-convert {\n",
              "      background-color: #E8F0FE;\n",
              "      border: none;\n",
              "      border-radius: 50%;\n",
              "      cursor: pointer;\n",
              "      display: none;\n",
              "      fill: #1967D2;\n",
              "      height: 32px;\n",
              "      padding: 0 0 0 0;\n",
              "      width: 32px;\n",
              "    }\n",
              "\n",
              "    .colab-df-convert:hover {\n",
              "      background-color: #E2EBFA;\n",
              "      box-shadow: 0px 1px 2px rgba(60, 64, 67, 0.3), 0px 1px 3px 1px rgba(60, 64, 67, 0.15);\n",
              "      fill: #174EA6;\n",
              "    }\n",
              "\n",
              "    .colab-df-buttons div {\n",
              "      margin-bottom: 4px;\n",
              "    }\n",
              "\n",
              "    [theme=dark] .colab-df-convert {\n",
              "      background-color: #3B4455;\n",
              "      fill: #D2E3FC;\n",
              "    }\n",
              "\n",
              "    [theme=dark] .colab-df-convert:hover {\n",
              "      background-color: #434B5C;\n",
              "      box-shadow: 0px 1px 3px 1px rgba(0, 0, 0, 0.15);\n",
              "      filter: drop-shadow(0px 1px 2px rgba(0, 0, 0, 0.3));\n",
              "      fill: #FFFFFF;\n",
              "    }\n",
              "  </style>\n",
              "\n",
              "    <script>\n",
              "      const buttonEl =\n",
              "        document.querySelector('#df-01654daf-62a1-44bc-ac86-12257eb53cbf button.colab-df-convert');\n",
              "      buttonEl.style.display =\n",
              "        google.colab.kernel.accessAllowed ? 'block' : 'none';\n",
              "\n",
              "      async function convertToInteractive(key) {\n",
              "        const element = document.querySelector('#df-01654daf-62a1-44bc-ac86-12257eb53cbf');\n",
              "        const dataTable =\n",
              "          await google.colab.kernel.invokeFunction('convertToInteractive',\n",
              "                                                    [key], {});\n",
              "        if (!dataTable) return;\n",
              "\n",
              "        const docLinkHtml = 'Like what you see? Visit the ' +\n",
              "          '<a target=\"_blank\" href=https://colab.research.google.com/notebooks/data_table.ipynb>data table notebook</a>'\n",
              "          + ' to learn more about interactive tables.';\n",
              "        element.innerHTML = '';\n",
              "        dataTable['output_type'] = 'display_data';\n",
              "        await google.colab.output.renderOutput(dataTable, element);\n",
              "        const docLink = document.createElement('div');\n",
              "        docLink.innerHTML = docLinkHtml;\n",
              "        element.appendChild(docLink);\n",
              "      }\n",
              "    </script>\n",
              "  </div>\n",
              "\n",
              "\n",
              "<div id=\"df-d1cb74b6-5d2f-428b-a3ec-2922075043b8\">\n",
              "  <button class=\"colab-df-quickchart\" onclick=\"quickchart('df-d1cb74b6-5d2f-428b-a3ec-2922075043b8')\"\n",
              "            title=\"Suggest charts\"\n",
              "            style=\"display:none;\">\n",
              "\n",
              "<svg xmlns=\"http://www.w3.org/2000/svg\" height=\"24px\"viewBox=\"0 0 24 24\"\n",
              "     width=\"24px\">\n",
              "    <g>\n",
              "        <path d=\"M19 3H5c-1.1 0-2 .9-2 2v14c0 1.1.9 2 2 2h14c1.1 0 2-.9 2-2V5c0-1.1-.9-2-2-2zM9 17H7v-7h2v7zm4 0h-2V7h2v10zm4 0h-2v-4h2v4z\"/>\n",
              "    </g>\n",
              "</svg>\n",
              "  </button>\n",
              "\n",
              "<style>\n",
              "  .colab-df-quickchart {\n",
              "      --bg-color: #E8F0FE;\n",
              "      --fill-color: #1967D2;\n",
              "      --hover-bg-color: #E2EBFA;\n",
              "      --hover-fill-color: #174EA6;\n",
              "      --disabled-fill-color: #AAA;\n",
              "      --disabled-bg-color: #DDD;\n",
              "  }\n",
              "\n",
              "  [theme=dark] .colab-df-quickchart {\n",
              "      --bg-color: #3B4455;\n",
              "      --fill-color: #D2E3FC;\n",
              "      --hover-bg-color: #434B5C;\n",
              "      --hover-fill-color: #FFFFFF;\n",
              "      --disabled-bg-color: #3B4455;\n",
              "      --disabled-fill-color: #666;\n",
              "  }\n",
              "\n",
              "  .colab-df-quickchart {\n",
              "    background-color: var(--bg-color);\n",
              "    border: none;\n",
              "    border-radius: 50%;\n",
              "    cursor: pointer;\n",
              "    display: none;\n",
              "    fill: var(--fill-color);\n",
              "    height: 32px;\n",
              "    padding: 0;\n",
              "    width: 32px;\n",
              "  }\n",
              "\n",
              "  .colab-df-quickchart:hover {\n",
              "    background-color: var(--hover-bg-color);\n",
              "    box-shadow: 0 1px 2px rgba(60, 64, 67, 0.3), 0 1px 3px 1px rgba(60, 64, 67, 0.15);\n",
              "    fill: var(--button-hover-fill-color);\n",
              "  }\n",
              "\n",
              "  .colab-df-quickchart-complete:disabled,\n",
              "  .colab-df-quickchart-complete:disabled:hover {\n",
              "    background-color: var(--disabled-bg-color);\n",
              "    fill: var(--disabled-fill-color);\n",
              "    box-shadow: none;\n",
              "  }\n",
              "\n",
              "  .colab-df-spinner {\n",
              "    border: 2px solid var(--fill-color);\n",
              "    border-color: transparent;\n",
              "    border-bottom-color: var(--fill-color);\n",
              "    animation:\n",
              "      spin 1s steps(1) infinite;\n",
              "  }\n",
              "\n",
              "  @keyframes spin {\n",
              "    0% {\n",
              "      border-color: transparent;\n",
              "      border-bottom-color: var(--fill-color);\n",
              "      border-left-color: var(--fill-color);\n",
              "    }\n",
              "    20% {\n",
              "      border-color: transparent;\n",
              "      border-left-color: var(--fill-color);\n",
              "      border-top-color: var(--fill-color);\n",
              "    }\n",
              "    30% {\n",
              "      border-color: transparent;\n",
              "      border-left-color: var(--fill-color);\n",
              "      border-top-color: var(--fill-color);\n",
              "      border-right-color: var(--fill-color);\n",
              "    }\n",
              "    40% {\n",
              "      border-color: transparent;\n",
              "      border-right-color: var(--fill-color);\n",
              "      border-top-color: var(--fill-color);\n",
              "    }\n",
              "    60% {\n",
              "      border-color: transparent;\n",
              "      border-right-color: var(--fill-color);\n",
              "    }\n",
              "    80% {\n",
              "      border-color: transparent;\n",
              "      border-right-color: var(--fill-color);\n",
              "      border-bottom-color: var(--fill-color);\n",
              "    }\n",
              "    90% {\n",
              "      border-color: transparent;\n",
              "      border-bottom-color: var(--fill-color);\n",
              "    }\n",
              "  }\n",
              "</style>\n",
              "\n",
              "  <script>\n",
              "    async function quickchart(key) {\n",
              "      const quickchartButtonEl =\n",
              "        document.querySelector('#' + key + ' button');\n",
              "      quickchartButtonEl.disabled = true;  // To prevent multiple clicks.\n",
              "      quickchartButtonEl.classList.add('colab-df-spinner');\n",
              "      try {\n",
              "        const charts = await google.colab.kernel.invokeFunction(\n",
              "            'suggestCharts', [key], {});\n",
              "      } catch (error) {\n",
              "        console.error('Error during call to suggestCharts:', error);\n",
              "      }\n",
              "      quickchartButtonEl.classList.remove('colab-df-spinner');\n",
              "      quickchartButtonEl.classList.add('colab-df-quickchart-complete');\n",
              "    }\n",
              "    (() => {\n",
              "      let quickchartButtonEl =\n",
              "        document.querySelector('#df-d1cb74b6-5d2f-428b-a3ec-2922075043b8 button');\n",
              "      quickchartButtonEl.style.display =\n",
              "        google.colab.kernel.accessAllowed ? 'block' : 'none';\n",
              "    })();\n",
              "  </script>\n",
              "</div>\n",
              "\n",
              "  <div id=\"id_48cfbd91-8884-4b91-8f96-d835fd992123\">\n",
              "    <style>\n",
              "      .colab-df-generate {\n",
              "        background-color: #E8F0FE;\n",
              "        border: none;\n",
              "        border-radius: 50%;\n",
              "        cursor: pointer;\n",
              "        display: none;\n",
              "        fill: #1967D2;\n",
              "        height: 32px;\n",
              "        padding: 0 0 0 0;\n",
              "        width: 32px;\n",
              "      }\n",
              "\n",
              "      .colab-df-generate:hover {\n",
              "        background-color: #E2EBFA;\n",
              "        box-shadow: 0px 1px 2px rgba(60, 64, 67, 0.3), 0px 1px 3px 1px rgba(60, 64, 67, 0.15);\n",
              "        fill: #174EA6;\n",
              "      }\n",
              "\n",
              "      [theme=dark] .colab-df-generate {\n",
              "        background-color: #3B4455;\n",
              "        fill: #D2E3FC;\n",
              "      }\n",
              "\n",
              "      [theme=dark] .colab-df-generate:hover {\n",
              "        background-color: #434B5C;\n",
              "        box-shadow: 0px 1px 3px 1px rgba(0, 0, 0, 0.15);\n",
              "        filter: drop-shadow(0px 1px 2px rgba(0, 0, 0, 0.3));\n",
              "        fill: #FFFFFF;\n",
              "      }\n",
              "    </style>\n",
              "    <button class=\"colab-df-generate\" onclick=\"generateWithVariable('df')\"\n",
              "            title=\"Generate code using this dataframe.\"\n",
              "            style=\"display:none;\">\n",
              "\n",
              "  <svg xmlns=\"http://www.w3.org/2000/svg\" height=\"24px\"viewBox=\"0 0 24 24\"\n",
              "       width=\"24px\">\n",
              "    <path d=\"M7,19H8.4L18.45,9,17,7.55,7,17.6ZM5,21V16.75L18.45,3.32a2,2,0,0,1,2.83,0l1.4,1.43a1.91,1.91,0,0,1,.58,1.4,1.91,1.91,0,0,1-.58,1.4L9.25,21ZM18.45,9,17,7.55Zm-12,3A5.31,5.31,0,0,0,4.9,8.1,5.31,5.31,0,0,0,1,6.5,5.31,5.31,0,0,0,4.9,4.9,5.31,5.31,0,0,0,6.5,1,5.31,5.31,0,0,0,8.1,4.9,5.31,5.31,0,0,0,12,6.5,5.46,5.46,0,0,0,6.5,12Z\"/>\n",
              "  </svg>\n",
              "    </button>\n",
              "    <script>\n",
              "      (() => {\n",
              "      const buttonEl =\n",
              "        document.querySelector('#id_48cfbd91-8884-4b91-8f96-d835fd992123 button.colab-df-generate');\n",
              "      buttonEl.style.display =\n",
              "        google.colab.kernel.accessAllowed ? 'block' : 'none';\n",
              "\n",
              "      buttonEl.onclick = () => {\n",
              "        google.colab.notebook.generateWithVariable('df');\n",
              "      }\n",
              "      })();\n",
              "    </script>\n",
              "  </div>\n",
              "\n",
              "    </div>\n",
              "  </div>\n"
            ],
            "application/vnd.google.colaboratory.intrinsic+json": {
              "type": "dataframe",
              "variable_name": "df",
              "summary": "{\n  \"name\": \"df\",\n  \"rows\": 3,\n  \"fields\": [\n    {\n      \"column\": \"T\\u00edtulo\",\n      \"properties\": {\n        \"dtype\": \"string\",\n        \"num_unique_values\": 3,\n        \"samples\": [\n          \"Opera\\u00e7\\u00e3o do sistema de controle clim\\u00e1tico\",\n          \"Touchscreen\",\n          \"Mudan\\u00e7a de marchas\"\n        ],\n        \"semantic_type\": \"\",\n        \"description\": \"\"\n      }\n    },\n    {\n      \"column\": \"Conte\\u00fado\",\n      \"properties\": {\n        \"dtype\": \"string\",\n        \"num_unique_values\": 3,\n        \"samples\": [\n          \"O Googlecar tem um sistema de controle clim\\u00e1tico que perimite ajustar a temperatura e o fluxo de ar no carro.\",\n          \"O seu Googlecar tem uma grande tela sens\\u00edvel ao toque que fornece acesso a uma variedade de recursos, incluindo navega\\u00e7\\u00e3o.\",\n          \"Seu Googlecar tem uma transmi\\u00e7\\u00e3o autom\\u00e1tica. Para trocar as marchas, basta mover a alavanca de c\\u00e2mbio para a posi\\u00e7\\u00e3o desejada.\"\n        ],\n        \"semantic_type\": \"\",\n        \"description\": \"\"\n      }\n    },\n    {\n      \"column\": \"Embeddings\",\n      \"properties\": {\n        \"dtype\": \"object\",\n        \"semantic_type\": \"\",\n        \"description\": \"\"\n      }\n    }\n  ]\n}"
            }
          },
          "metadata": {},
          "execution_count": 21
        }
      ]
    },
    {
      "cell_type": "markdown",
      "source": [
        "Consultando os documentos no DataFrame"
      ],
      "metadata": {
        "id": "DIgLIan3OrHZ"
      }
    },
    {
      "cell_type": "code",
      "source": [
        "#Álgebra linear e vetores\n",
        "def gerar_e_buscar_consulta(consulta, base, model):\n",
        "  embedding_da_consulta = genai.embed_content(model=model,\n",
        "                                              content=consulta,\n",
        "                                            task_type=\"RETRIEVAL_QUERY\")[\"embedding\"]\n",
        "\n",
        "  # Converte a coluna Embeddings para um array numpy\n",
        "  produtos_escalares = np.dot(np.stack(df[\"Embeddings\"]), embedding_da_consulta)\n",
        "\n",
        "  indice = np.argmax(produtos_escalares)\n",
        "  return df.iloc[indice][\"Conteúdo\"]"
      ],
      "metadata": {
        "id": "Jd3EChB4Ox9e"
      },
      "execution_count": 38,
      "outputs": []
    },
    {
      "cell_type": "markdown",
      "source": [
        "Consulta e pergunta acessando as variáveis"
      ],
      "metadata": {
        "id": "vNc9c_KaPpmn"
      }
    },
    {
      "cell_type": "code",
      "source": [
        "#Sem risco de alucinações pois já criei o documento processual. 'TradeOFF' menos criatividade mais exatidão\n",
        "consulta = \"Como faço para trocar as marchas em um carro do Google?\"\n",
        "\n",
        "#Maior segurança e precisão na geração de embeddings\n",
        "\n",
        "trecho = gerar_e_buscar_consulta(consulta, df, model)\n",
        "print(trecho)"
      ],
      "metadata": {
        "id": "l1Kf87TeRZut",
        "outputId": "59dfb2ea-d637-419e-fe34-8ea1822c6bd9",
        "colab": {
          "base_uri": "https://localhost:8080/",
          "height": 55
        }
      },
      "execution_count": 39,
      "outputs": [
        {
          "output_type": "stream",
          "name": "stdout",
          "text": [
            "Seu Googlecar tem uma transmição automática. Para trocar as marchas, basta mover a alavanca de câmbio para a posição desejada.\n"
          ]
        }
      ]
    },
    {
      "cell_type": "markdown",
      "source": [
        "Configurações do Modelo"
      ],
      "metadata": {
        "id": "EOLni8phYhme"
      }
    },
    {
      "cell_type": "code",
      "source": [
        "generation_config = {\n",
        "    \"temperature\": 0,\n",
        "    \"candidate_count\": 1,\n",
        "    }"
      ],
      "metadata": {
        "id": "yE2EB8KHYltT"
      },
      "execution_count": 44,
      "outputs": []
    },
    {
      "cell_type": "markdown",
      "source": [
        "Brincando com o conteúdo e testando as funções"
      ],
      "metadata": {
        "id": "feTlAlydZd2P"
      }
    },
    {
      "cell_type": "code",
      "source": [
        "prompt = f\"Reescreva esse texto de uma forma mais descontraída, sem adicionar informações que não façam parte do texto: {trecho}\"\n",
        "\n",
        "model_2 = genai.GenerativeModel(\"gemini-1.0-pro\",\n",
        "                                generation_config=generation_config)\n",
        "response = model_2.generate_content(prompt)\n",
        "print(response.text)"
      ],
      "metadata": {
        "id": "IFUyeLLkXf-Y",
        "outputId": "d37edda5-cbf7-46b7-ed3c-dd17b29de7f5",
        "colab": {
          "base_uri": "https://localhost:8080/",
          "height": 55
        }
      },
      "execution_count": 45,
      "outputs": [
        {
          "output_type": "stream",
          "name": "stdout",
          "text": [
            "Seu Googlecar é tipo um carro automático maneiro. Pra trocar as marchas, é só dar um toque na alavanca e escolher a que você quer. Fácil, né?\n"
          ]
        }
      ]
    },
    {
      "cell_type": "markdown",
      "source": [
        "Fim."
      ],
      "metadata": {
        "id": "Pud0QkiUZn3Z"
      }
    }
  ]
}